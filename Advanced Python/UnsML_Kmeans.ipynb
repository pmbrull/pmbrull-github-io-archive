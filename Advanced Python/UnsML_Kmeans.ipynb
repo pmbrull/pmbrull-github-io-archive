{
 "cells": [
  {
   "cell_type": "markdown",
   "metadata": {},
   "source": [
    "# Unsupervised Machine Learning II - Clustering"
   ]
  },
  {
   "cell_type": "markdown",
   "metadata": {},
   "source": [
    "**Brull Borràs, Pere Miquel**"
   ]
  },
  {
   "cell_type": "markdown",
   "metadata": {},
   "source": [
    "With PCA we learned a machine learning algorithm used for extracting key structural information from large and complex datasets without the need of labels. Clustering is another technique for unsupervised machine learning. Its most popular implementation is **k-means**, which works by reaching $k$ stable groups within the data by randomly initializing $k$ points in the data subspace: the *means* of the cluster.\n",
    "\n",
    "The algorithm follows a recursive approach:\n",
    "\n",
    "- Assign each point to the nearest mean based on the least sum of squares within cluster.\n",
    "- Reassign the cluster mean as the centroid of each cluster.\n",
    "\n",
    "Throughout many iterations, centroids that minimize the *within cluster least sum of squares* are reached, thus the algorithm stops when converging on a solution. To maximize perfomance, algorithms try to find a good initial approximation that minimizes variances within classes.\n",
    "\n",
    "Again, we will use the digits dataset from sklearn as an example:"
   ]
  },
  {
   "cell_type": "code",
   "execution_count": 11,
   "metadata": {},
   "outputs": [],
   "source": [
    "%matplotlib inline\n",
    "import numpy as np\n",
    "import matplotlib.pyplot as plt\n",
    "\n",
    "from sklearn.datasets import load_digits\n",
    "from sklearn.decomposition import PCA\n",
    "from sklearn.preprocessing import scale\n",
    "from sklearn.discriminant_analysis import LinearDiscriminantAnalysis as LDA\n",
    "from sklearn.preprocessing import StandardScaler\n",
    "from sklearn.cluster import KMeans\n",
    "from sklearn import metrics\n",
    "from mpl_toolkits.mplot3d import Axes3D\n",
    "\n",
    "from time import time\n",
    "np.random.seed()\n",
    "scale = StandardScaler()\n",
    "\n",
    "digits = load_digits()\n",
    "data = load_digits().data\n",
    "\n",
    "n_samples, n_features = data.shape\n",
    "n_digits = len(np.unique(digits.target))\n",
    "labels = digits.target"
   ]
  },
  {
   "cell_type": "code",
   "execution_count": 33,
   "metadata": {},
   "outputs": [
    {
     "name": "stdout",
     "output_type": "stream",
     "text": [
      "n_digits: 10, \t n_samples 1797, \t n_features 64\n",
      "_______________________________________________________________________________\n",
      "init         time   inertia   homo   compl   v-meas   ARI    silhouette\n",
      "k-means++    0.23s  1165149   0.740  0.748   0.744    0.668  0.175\n",
      "_______________________________________________________________________________\n"
     ]
    }
   ],
   "source": [
    "sample_size = 300\n",
    "\n",
    "print(\"n_digits: %d, \\t n_samples %d, \\t n_features %d\"\n",
    "   % (n_digits, n_samples, n_features))\n",
    "\n",
    "\n",
    "print(79 * '_')\n",
    "print('% 9s' % 'init''         time   inertia   homo   compl   v-meas   ARI    silhouette')\n",
    "\n",
    "def bench_k_means(estimator, name, data):\n",
    "    t0 = time()\n",
    "    estimator.fit(data)\n",
    "    print('% 9s    %.2fs  %i   %.3f  %.3f   %.3f    %.3f  %.3f'\n",
    "      % (name, (time() - t0), estimator.inertia_,\n",
    "         metrics.homogeneity_score(labels, estimator.labels_),\n",
    "         metrics.completeness_score(labels, estimator.labels_),\n",
    "         metrics.v_measure_score(labels, estimator.labels_),\n",
    "         metrics.adjusted_rand_score(labels, estimator.labels_),\n",
    "         metrics.silhouette_score(data, estimator.labels_,\n",
    "             metric='euclidean',\n",
    "             sample_size=sample_size)\n",
    "        )\n",
    "     )\n",
    "\n",
    "bench_k_means(KMeans(init='k-means++', n_clusters=n_digits, n_init=10), name=\"k-means++\", data=data)\n",
    "print(79 * '_')"
   ]
  },
  {
   "cell_type": "code",
   "execution_count": null,
   "metadata": {},
   "outputs": [],
   "source": []
  }
 ],
 "metadata": {
  "kernelspec": {
   "display_name": "Python 3",
   "language": "python",
   "name": "python3"
  },
  "language_info": {
   "codemirror_mode": {
    "name": "ipython",
    "version": 3
   },
   "file_extension": ".py",
   "mimetype": "text/x-python",
   "name": "python",
   "nbconvert_exporter": "python",
   "pygments_lexer": "ipython3",
   "version": "3.6.3"
  }
 },
 "nbformat": 4,
 "nbformat_minor": 2
}
