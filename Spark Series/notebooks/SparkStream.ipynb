{
 "cells": [
  {
   "cell_type": "code",
   "execution_count": 1,
   "metadata": {},
   "outputs": [],
   "source": [
    "from pyspark import SparkContext\n",
    "from pyspark.streaming import StreamingContext\n",
    "from pyspark.sql import SQLContext\n",
    "from pyspark.sql.functions import desc"
   ]
  },
  {
   "cell_type": "code",
   "execution_count": 2,
   "metadata": {},
   "outputs": [],
   "source": [
    "sc = SparkContext.getOrCreate(conf=conf)\n",
    "sc.setLogLevel(\"ERROR\")\n",
    "ssc = StreamingContext(sc, 10)\n",
    "sqlContext = SQLContext(sc)\n",
    "ssc.checkpoint(\"checkpoint\")"
   ]
  },
  {
   "cell_type": "code",
   "execution_count": 3,
   "metadata": {},
   "outputs": [],
   "source": [
    "socket_stream = ssc.socketTextStream(\"localhost\", 5555)"
   ]
  },
  {
   "cell_type": "code",
   "execution_count": 4,
   "metadata": {},
   "outputs": [],
   "source": [
    "lines = socket_stream.window(20)"
   ]
  },
  {
   "cell_type": "code",
   "execution_count": 5,
   "metadata": {},
   "outputs": [],
   "source": [
    "counts = lines.flatMap(lambda text: text.split( \" \" ))\\\n",
    "    .filter(lambda word: word.lower().startswith(\"#\"))\\\n",
    "    .map(lambda word: (word.lower(), 1))\\\n",
    "    .reduceByKeyAndWindow(lambda x, y: x + y, lambda x, y: x - y, 60*5, 10)\n",
    "\n",
    "swappedCounts = counts.map(lambda x: (x[1], x[0]))\n",
    "sortedCounts = swappedCounts.transform(lambda rdd: rdd.sortByKey())\n",
    "\n",
    "sortedCounts.pprint()"
   ]
  },
  {
   "cell_type": "code",
   "execution_count": null,
   "metadata": {
    "scrolled": false
   },
   "outputs": [
    {
     "name": "stdout",
     "output_type": "stream",
     "text": [
      "-------------------------------------------\n",
      "Time: 2018-02-18 22:38:00\n",
      "-------------------------------------------\n",
      "(1, '#rickgates')\n",
      "(1, '#manafort')\n",
      "(1, '#trumprussia')\n",
      "(1, '#privatization')\n",
      "(1, '#flag')\n",
      "(1, '#resist')\n",
      "(1, '#stpatricks')\n",
      "(1, '#ireland')\n",
      "(1, '#clover')\n",
      "(1, '#symbol')\n",
      "...\n",
      "\n",
      "-------------------------------------------\n",
      "Time: 2018-02-18 22:38:10\n",
      "-------------------------------------------\n",
      "(1, '#irandeal')\n",
      "(1, '#c…rt')\n",
      "(1, '#russianbot')\n",
      "(1, '#fbi')\n",
      "(1, '#housekeeper')\n",
      "(1, '#presidentsday,')\n",
      "(1, '#abc730')\n",
      "(1, '#liar')\n",
      "(1, '#trumptaxscam')\n",
      "(1, '#thegreatwall')\n",
      "...\n",
      "\n"
     ]
    }
   ],
   "source": [
    "ssc.start()\n",
    "ssc.awaitTermination()"
   ]
  },
  {
   "cell_type": "code",
   "execution_count": null,
   "metadata": {},
   "outputs": [],
   "source": [
    "ssc.stop()"
   ]
  },
  {
   "cell_type": "code",
   "execution_count": null,
   "metadata": {},
   "outputs": [],
   "source": [
    "def updateFunc(new_values, last_sum):\n",
    "        return sum(new_values) + (last_sum or 0)"
   ]
  },
  {
   "cell_type": "code",
   "execution_count": null,
   "metadata": {},
   "outputs": [],
   "source": [
    "# get the hashtags:\n",
    "hashtags = lines.flatMap(lambda text: text.split(\" \"))\\\n",
    "    .filter(lambda word: word.lower().startswith(\"#\"))\n",
    "    \n",
    "hashtags.pprint()"
   ]
  },
  {
   "cell_type": "code",
   "execution_count": null,
   "metadata": {},
   "outputs": [],
   "source": [
    "# get the last 5min data reduced every second\n",
    "counts = lines.flatMap(lambda text: text.split( \" \" ))\\\n",
    "    .filter(lambda word: word.lower().startswith(\"#\"))\\\n",
    "    .map(lambda word: (word.lower(), 1))\\\n",
    "    .reduceByKeyAndWindow(lambda x, y: x + y, lambda x, y: x - y, 60*5, 1)\n",
    "\n",
    "counts.pprint()"
   ]
  }
 ],
 "metadata": {
  "kernelspec": {
   "display_name": "Python 3",
   "language": "python",
   "name": "python3"
  },
  "language_info": {
   "codemirror_mode": {
    "name": "ipython",
    "version": 3
   },
   "file_extension": ".py",
   "mimetype": "text/x-python",
   "name": "python",
   "nbconvert_exporter": "python",
   "pygments_lexer": "ipython3",
   "version": "3.6.3"
  }
 },
 "nbformat": 4,
 "nbformat_minor": 2
}
