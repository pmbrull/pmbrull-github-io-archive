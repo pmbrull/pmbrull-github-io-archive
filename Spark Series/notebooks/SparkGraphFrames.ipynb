{
 "cells": [
  {
   "cell_type": "markdown",
   "metadata": {},
   "source": [
    "# Spark GraphFrames\n",
    "\n",
    "#### by Brull Borràs, Pere Miquel"
   ]
  },
  {
   "cell_type": "markdown",
   "metadata": {},
   "source": [
    "## Getting Ready"
   ]
  },
  {
   "cell_type": "markdown",
   "metadata": {},
   "source": [
    "Ok so, this has been quite a journey, and please disregard the *Quick* in Quick-Start as it's taken a few hours just to get the copy-paste example to work. Thus, I'm gonna write some steps down before I forget.\n",
    "\n",
    "While looking through github issues and StackOverflow, people were asking for separate problems, but here i present you the complete saga, also with one unfound error that personally I don't understand, but hey, it works.\n",
    "\n",
    "<div class=\"alert alert-info\">\n",
    "Note: These are the issues found when installing and running graphframes in Windows. It is common knowledge that windows cmd is lacking when compared to Unix. To being able to use Unix commands, install GOW for Windows.\n",
    "</div>\n",
    "\n",
    "1. First of all, download Spark from this [link](https://spark.apache.org/downloads.html). I just got the fresh Spark 2.3. I have it placed inside ```C:\\```, so I will be using it as path example. Remember to set all options and paths to be able to use Pyspark with Jupyter.\n",
    "2. Now, download **graphframes** package from the Spark packages [site](https://spark-packages.org/package/graphframes/graphframes). \n",
    "3. Unzip it and check that you got the directory: ```\\graphframes\\python\\graphframes```. Inside you should have the following structure:\n",
    "```\n",
    "graphframes\n",
    "│   __init__.py\n",
    "│   graphframe.py\n",
    "│   tests.py \n",
    "│   \n",
    "└─── examples\n",
    "│ \n",
    "└─── lib\n",
    "```\n",
    "Copy this inside your the Spark directory: ```C:\\Spark\\spark-2.3.0-bin-hadoop2.7\\python\\pyspark```, where other modules like MLlib and Streaming are placed.\n",
    "\n",
    "4. Once you are set, run: ```pyspark --packages graphframes:graphframes:0.5.0-spark2.1-s_2.11```. You should see something like this\n",
    "```\n",
    "        ---------------------------------------------------------------------\n",
    "        |                  |            modules            ||   artifacts   |\n",
    "        |       conf       | number| search|dwnlded|evicted|| number|dwnlded|\n",
    "        ---------------------------------------------------------------------\n",
    "        |      default     |   5   |   0   |   0   |   0   ||   5   |   0   |\n",
    "        ---------------------------------------------------------------------\n",
    "```\n",
    "However, here is where I found the first weird error. Spark could not locate nor download ```org.slf4j#slf4j-api;1.7.7 from local-m2-cache```. A fix for this is to download ```slf4j-api-1.7.7``` and place it under ``` C:\\Users\\Usuario\\.m2\\repository\\org\\slf4j\\slf4j-api\\1.7.7 ```. Please note that it is looking for version 1.7.7. I tried with newer ones but same problem appeared.\n",
    "\n",
    "5. With these steps now you should be able to **import graphframes** modules. Nevertheless, fun goes on. Maybe I broke something when preparing the new Spark version, but I got a metastore_db and hive related error when creating the vertices and edges DataFrames. So let's give some attention to Hadoop now:\n",
    "\n",
    "    1. Download Apache Hadoop. I am using hadoop-2.7.1. Place it under ```C:\\hadoop```.\n",
    "    2. Set ```HADOOP_HOME=C:\\hadoop``` and include ```%HADOOP_HOME%\\bin``` to the PATH environment.\n",
    "    3. Create ```C:\\tmp\\hive ``` directory and run: ```winutils.exe chmod -R 777 \\tmp\\hive ```.\n",
    "\n",
    "6. Remember how we downloaded slf4j-api version 1.7.7? Well, now you should be able to create both DataFrames, but when creating the GraphFrame, it is going to fail, as it does not find logging classes related to: ```scala-logging-slf4j_2.10-2.1.2.jar```. Yes, version 2.1.2. Download both ```scala-logging-slf4j_2.10-2.1.2.jar``` and ```scala-logging-api_2.10-2.1.2.jar``` and place them under the jars directory inside Spark."
   ]
  },
  {
   "cell_type": "markdown",
   "metadata": {},
   "source": [
    "## Warmup"
   ]
  },
  {
   "cell_type": "code",
   "execution_count": 1,
   "metadata": {},
   "outputs": [],
   "source": [
    "import pandas as pd\n",
    "import numpy as np\n",
    "import networkx as nx\n",
    "import matplotlib.pyplot as plt\n",
    "\n",
    "from pyspark.sql.types import *\n",
    "from pyspark.sql import Row\n",
    "from graphframes import graphframe as GF\n",
    "\n",
    "sc = SparkContext.getOrCreate()"
   ]
  },
  {
   "cell_type": "markdown",
   "metadata": {},
   "source": [
    "For creating the graph, we first need to generate data for both vertices and edges in the form of DataFrames:"
   ]
  },
  {
   "cell_type": "code",
   "execution_count": 2,
   "metadata": {},
   "outputs": [],
   "source": [
    "v = sqlContext.createDataFrame([(\"a\", \"Alice\", 34), \n",
    "                                (\"b\", \"Bob\", 36),\n",
    "                                (\"c\", \"Charlie\", 30),\n",
    "                                (\"d\", \"David\", 29),\n",
    "                                (\"e\", \"Esther\", 32),\n",
    "                                (\"f\", \"Fanny\", 36),\n",
    "                                (\"g\", \"Gabby\", 60)],\n",
    "                               [\"id\", \"name\", \"age\"])\n",
    "e = sqlContext.createDataFrame([(\"a\", \"b\", \"friend\"),\n",
    "                                (\"b\", \"c\", \"follow\"),\n",
    "                                (\"c\", \"b\", \"follow\"),\n",
    "                                (\"f\", \"c\", \"follow\"), \n",
    "                                (\"e\", \"f\", \"follow\"),\n",
    "                                (\"e\", \"d\", \"friend\"),\n",
    "                                (\"d\", \"a\", \"friend\"),\n",
    "                                (\"a\", \"e\", \"friend\")], \n",
    "                                [\"src\", \"dst\", \"relationship\"])"
   ]
  },
  {
   "cell_type": "markdown",
   "metadata": {},
   "source": [
    "Create the graph and show edges and vertices:"
   ]
  },
  {
   "cell_type": "code",
   "execution_count": 3,
   "metadata": {},
   "outputs": [
    {
     "name": "stdout",
     "output_type": "stream",
     "text": [
      "Show graph edges:\n",
      "+---+---+------------+\n",
      "|src|dst|relationship|\n",
      "+---+---+------------+\n",
      "|  a|  b|      friend|\n",
      "|  b|  c|      follow|\n",
      "|  c|  b|      follow|\n",
      "|  f|  c|      follow|\n",
      "|  e|  f|      follow|\n",
      "|  e|  d|      friend|\n",
      "|  d|  a|      friend|\n",
      "|  a|  e|      friend|\n",
      "+---+---+------------+\n",
      "\n",
      "Show graph vertices:\n",
      "+---+-------+---+\n",
      "| id|   name|age|\n",
      "+---+-------+---+\n",
      "|  a|  Alice| 34|\n",
      "|  b|    Bob| 36|\n",
      "|  c|Charlie| 30|\n",
      "|  d|  David| 29|\n",
      "|  e| Esther| 32|\n",
      "|  f|  Fanny| 36|\n",
      "|  g|  Gabby| 60|\n",
      "+---+-------+---+\n",
      "\n"
     ]
    }
   ],
   "source": [
    "g = GF.GraphFrame(v, e)\n",
    "print('Show graph edges:')\n",
    "g.edges.show()\n",
    "print('Show graph vertices:')\n",
    "g.vertices.show()"
   ]
  },
  {
   "cell_type": "markdown",
   "metadata": {},
   "source": [
    "## Basic GrapFrames"
   ]
  },
  {
   "cell_type": "markdown",
   "metadata": {},
   "source": [
    "### 1. Load the Graph\n",
    "\n",
    "We need to load the data from text files, parse them and create the DataFrames for the edges and vertices. Then, form the Graph G."
   ]
  },
  {
   "cell_type": "code",
   "execution_count": 4,
   "metadata": {},
   "outputs": [
    {
     "name": "stdout",
     "output_type": "stream",
     "text": [
      "Schema for people (vertices) is: id,name,age. For example: ['1', 'Alice', '28'].\n",
      "Schema for likes (edges) is: src,dst,likes. For example ['2', '1', '7'].\n"
     ]
    }
   ],
   "source": [
    "peopleFile = sc.textFile(\"./Input/people.txt\")\n",
    "likesFile = sc.textFile(\"./Input/likes.txt\")\n",
    "\n",
    "peopleSchema = peopleFile.first()\n",
    "likesSchema = likesFile.first()\n",
    "\n",
    "people = peopleFile.filter(lambda l: l != peopleSchema)\\\n",
    "    .map(lambda l: l.split(','))\n",
    "    \n",
    "likes = likesFile.filter(lambda l: l != likesSchema)\\\n",
    "    .map(lambda l: l.split(','))\n",
    "    \n",
    "print('Schema for people (vertices) is: {}. For example: {}.'.format(peopleSchema, people.first()))\n",
    "print('Schema for likes (edges) is: {}. For example {}.'.format(likesSchema, likes.first()))"
   ]
  },
  {
   "cell_type": "code",
   "execution_count": 5,
   "metadata": {},
   "outputs": [],
   "source": [
    "row_data_people = people.map(lambda p: Row(\n",
    "    id=int(p[0]), \n",
    "    name=str(p[1]),\n",
    "    age=int(p[2])\n",
    "    )\n",
    ")\n",
    "\n",
    "row_data_likes = likes.map(lambda p: Row(\n",
    "    src=int(p[0]), \n",
    "    dst=int(p[1]),\n",
    "    likes=int(p[2])\n",
    "    )\n",
    ")\n",
    "\n",
    "people_df = sqlContext.createDataFrame(row_data_people)\n",
    "likes_df = sqlContext.createDataFrame(row_data_likes)\n",
    "\n",
    "G = GF.GraphFrame(people_df, likes_df)"
   ]
  },
  {
   "cell_type": "markdown",
   "metadata": {},
   "source": [
    "### 2. Graph Views\n",
    "\n",
    "Graph's edges and vertices are DataFrames that can be accessed (G.edges & G.vertices). Let's display the name of the users that are at least 30 years old:"
   ]
  },
  {
   "cell_type": "code",
   "execution_count": 7,
   "metadata": {},
   "outputs": [
    {
     "name": "stdout",
     "output_type": "stream",
     "text": [
      "G.vertices is a: DataFrame[age: bigint, id: bigint, name: string]. \n",
      "\n",
      "David is 42.\n",
      "Fran is 50.\n",
      "Ed is 55.\n",
      "Charlie is 65.\n"
     ]
    }
   ],
   "source": [
    "print('G.vertices is a: {}. \\n'.format(G.vertices))\n",
    "\n",
    "# vertices30 is also a DF\n",
    "vertices30 = G.vertices.select(\"name\",\"age\").filter(G.vertices.age > 30).orderBy(\"age\", ascending=True)\n",
    "\n",
    "# Collect and print:   \n",
    "print(*('{} is {}.'.format(x.name, x.age) for x in vertices30.rdd.collect()), sep='\\n')"
   ]
  },
  {
   "cell_type": "markdown",
   "metadata": {},
   "source": [
    "**EdgeTriplets** is a class that extends the Edge class by adding the source and destination of the edge with their properties:"
   ]
  },
  {
   "cell_type": "code",
   "execution_count": 8,
   "metadata": {},
   "outputs": [
    {
     "name": "stdout",
     "output_type": "stream",
     "text": [
      "+----------------+---------+----------------+\n",
      "|             src|     edge|             dst|\n",
      "+----------------+---------+----------------+\n",
      "|     [55, 5, Ed]|[6, 3, 5]|   [50, 6, Fran]|\n",
      "|[65, 3, Charlie]|[6, 3, 3]|   [50, 6, Fran]|\n",
      "|    [27, 2, Bob]|[1, 7, 2]|  [28, 1, Alice]|\n",
      "|  [42, 4, David]|[1, 1, 4]|  [28, 1, Alice]|\n",
      "|     [55, 5, Ed]|[3, 8, 5]|[65, 3, Charlie]|\n",
      "|     [55, 5, Ed]|[2, 2, 5]|    [27, 2, Bob]|\n",
      "|[65, 3, Charlie]|[2, 4, 3]|    [27, 2, Bob]|\n",
      "|    [27, 2, Bob]|[4, 2, 2]|  [42, 4, David]|\n",
      "+----------------+---------+----------------+\n",
      "\n"
     ]
    }
   ],
   "source": [
    "G.triplets.show()"
   ]
  },
  {
   "cell_type": "markdown",
   "metadata": {},
   "source": [
    "Let's clean the new DataFrame to display the names of who likes who. First collect the triplets class and check how is structured the data we are going to work with:"
   ]
  },
  {
   "cell_type": "code",
   "execution_count": 9,
   "metadata": {},
   "outputs": [
    {
     "name": "stdout",
     "output_type": "stream",
     "text": [
      "Row(src=Row(age=55, id=5, name='Ed'), edge=Row(dst=6, likes=3, src=5), dst=Row(age=50, id=6, name='Fran'))\n"
     ]
    }
   ],
   "source": [
    "triplet = G.triplets.collect()\n",
    "print(triplet[0])"
   ]
  },
  {
   "cell_type": "markdown",
   "metadata": {},
   "source": [
    "We have a Row of Rows. Thus, we can access all the data with the following structure:\n",
    "``` triplet[rowid][column_name][inner_column_name] ```, for example:"
   ]
  },
  {
   "cell_type": "code",
   "execution_count": 10,
   "metadata": {},
   "outputs": [
    {
     "name": "stdout",
     "output_type": "stream",
     "text": [
      "Ed\n"
     ]
    }
   ],
   "source": [
    "print(triplet[0][\"src\"][\"name\"])"
   ]
  },
  {
   "cell_type": "code",
   "execution_count": 11,
   "metadata": {},
   "outputs": [
    {
     "name": "stdout",
     "output_type": "stream",
     "text": [
      "Bob likes Alice.\n",
      "Bob likes David.\n",
      "Charlie likes Fran.\n",
      "Charlie likes Bob.\n",
      "David likes Alice.\n",
      "Ed likes Fran.\n",
      "Ed likes Charlie.\n",
      "Ed likes Bob.\n"
     ]
    }
   ],
   "source": [
    "# Key argument in sorted lets us sort by complex data structures:\n",
    "print(*('{} likes {}.'.format(x[\"src\"][\"name\"], x[\"dst\"][\"name\"]) for x in \n",
    "        sorted(triplet, key=lambda l: l[\"src\"][\"name\"])), sep='\\n')"
   ]
  },
  {
   "cell_type": "markdown",
   "metadata": {},
   "source": [
    "Filter now by users with more than 5 likes:"
   ]
  },
  {
   "cell_type": "code",
   "execution_count": 12,
   "metadata": {},
   "outputs": [
    {
     "name": "stdout",
     "output_type": "stream",
     "text": [
      "Bob loves Alice.\n",
      "Ed loves Charlie.\n"
     ]
    }
   ],
   "source": [
    "triplet = G.triplets.filter(G.triplets[\"edge\"][\"likes\"] > 5).collect()\n",
    "\n",
    "print(*('{} loves {}.'.format(x[\"src\"][\"name\"], x[\"dst\"][\"name\"]) for x in \n",
    "        sorted(triplet, key=lambda l: l[\"src\"][\"name\"])), sep='\\n')"
   ]
  },
  {
   "cell_type": "markdown",
   "metadata": {},
   "source": [
    "### 3. Querying the Graph"
   ]
  },
  {
   "cell_type": "markdown",
   "metadata": {},
   "source": [
    "* Find the youngest user's age in the graph."
   ]
  },
  {
   "cell_type": "code",
   "execution_count": 13,
   "metadata": {},
   "outputs": [
    {
     "name": "stdout",
     "output_type": "stream",
     "text": [
      "The youngest user is Bob, who is 27 years old.\n"
     ]
    }
   ],
   "source": [
    "min_age = G.vertices.select(\"age\").agg({\"age\": \"min\"}).collect()[0][0]\n",
    "min_age_row = G.vertices.select(\"name\", \"age\").filter(G.vertices.age == min_age).collect()\n",
    "\n",
    "print(\"The youngest user is {}, who is {} years old.\".format(min_age_row[0][\"name\"], min_age))"
   ]
  },
  {
   "cell_type": "markdown",
   "metadata": {},
   "source": [
    "* For each user show the number of likes received and given."
   ]
  },
  {
   "cell_type": "code",
   "execution_count": 14,
   "metadata": {},
   "outputs": [],
   "source": [
    "# in/outDegrees gives us a DF with the vertex index and degree.\n",
    "likesReceived = G.inDegrees\n",
    "likesGiven = G.outDegrees\n",
    "\n",
    "InOut = G.vertices.join(likesReceived, G.vertices[\"id\"]==likesReceived[\"id\"], \"left\").drop(likesReceived.id)\\\n",
    "                  .join(likesGiven, G.vertices[\"id\"]==likesGiven[\"id\"], \"left\").drop(likesGiven.id)\\\n",
    "                  .collect()\n",
    "        \n"
   ]
  },
  {
   "cell_type": "code",
   "execution_count": 15,
   "metadata": {},
   "outputs": [
    {
     "name": "stdout",
     "output_type": "stream",
     "text": [
      "Alice has given 0 likes and received 2.\n",
      "Bob has given 2 likes and received 2.\n",
      "Charlie has given 2 likes and received 1.\n",
      "David has given 1 likes and received 1.\n",
      "Ed has given 3 likes and received 0.\n",
      "Fran has given 0 likes and received 2.\n"
     ]
    }
   ],
   "source": [
    "print(*('{} has given {} likes and received {}.'.format(x[\"name\"], x[\"outDegree\"], x[\"inDegree\"]).replace(\"None\",'0')\n",
    "        for x in sorted(InOut, key=lambda l: l[\"name\"])), sep='\\n')"
   ]
  },
  {
   "cell_type": "markdown",
   "metadata": {},
   "source": [
    "### 4. Motif Finding"
   ]
  },
  {
   "cell_type": "markdown",
   "metadata": {},
   "source": [
    "One of the most exciting aspects of working with Graphs is being able to query on the topography and get fast results, au contraire of relational databases that would require costly joins to get the same results.\n",
    "\n",
    "It uses a Domain-Specific-Language (DSL) for expressing structural queries. For example:\n",
    "* (a)-[e]->(b); (b)-[e2]->(c)\n",
    "\n",
    "It would list all sets of 3 vertexs that are connected in the specified direction. Vertexs and edges names in the query are *aliases*, which are useful when concatenating queries:\n",
    "\n",
    "* (a)-[e]->(b); (b)-[e2]->(a)\n",
    "\n",
    "Now, we would get a cycle. Note that it is also possible to omit aliases when not needed.\n",
    "\n",
    "**Examples**:\n",
    "* Recommend who to follow, and triplets of users A,B,C where A follows B and B follows C, but A does not follow C."
   ]
  },
  {
   "cell_type": "code",
   "execution_count": 16,
   "metadata": {},
   "outputs": [
    {
     "name": "stdout",
     "output_type": "stream",
     "text": [
      "Charlie likes Bob, and Bob likes David, so Charlie may like David.\n",
      "Charlie likes Bob, and Bob likes Alice, so Charlie may like Alice.\n",
      "Ed likes Bob, and Bob likes David, so Ed may like David.\n",
      "Ed likes Bob, and Bob likes Alice, so Ed may like Alice.\n"
     ]
    }
   ],
   "source": [
    "motif1 = G.find(\"(a)-[e]->(b); (b)-[e2]->(c); !(a)-[]->(c)\")\n",
    "\n",
    "print(*('{} likes {}, and {} likes {}, so {} may like {}.'\n",
    "        .format(x[\"a\"][\"name\"], x[\"b\"][\"name\"], x[\"b\"][\"name\"], x[\"c\"][\"name\"],\n",
    "               x[\"a\"][\"name\"], x[\"c\"][\"name\"])\n",
    "        for x in sorted(motif1.collect(), key=lambda l: l[\"a\"][\"name\"])), sep='\\n')"
   ]
  },
  {
   "cell_type": "markdown",
   "metadata": {},
   "source": [
    "* Find the subgraph of people with 3 likes or more."
   ]
  },
  {
   "cell_type": "code",
   "execution_count": 19,
   "metadata": {},
   "outputs": [
    {
     "name": "stdout",
     "output_type": "stream",
     "text": [
      "+----------------+---------+----------------+\n",
      "|             src|     edge|             dst|\n",
      "+----------------+---------+----------------+\n",
      "|     [55, 5, Ed]|[6, 3, 5]|   [50, 6, Fran]|\n",
      "|[65, 3, Charlie]|[6, 3, 3]|   [50, 6, Fran]|\n",
      "|    [27, 2, Bob]|[1, 7, 2]|  [28, 1, Alice]|\n",
      "|     [55, 5, Ed]|[3, 8, 5]|[65, 3, Charlie]|\n",
      "|[65, 3, Charlie]|[2, 4, 3]|    [27, 2, Bob]|\n",
      "+----------------+---------+----------------+\n",
      "\n"
     ]
    }
   ],
   "source": [
    "motif2 = G.find(\"(src)-[edge]->(dst)\").filter(\"edge.likes >= 3\")\n",
    "motif2.show()"
   ]
  },
  {
   "cell_type": "code",
   "execution_count": 20,
   "metadata": {},
   "outputs": [],
   "source": [
    "\"\"\"\n",
    "Function for plotting a graph using networkx.\n",
    "Input is a collected DataFrame triplet from graphframes.\n",
    "\"\"\"\n",
    "def plot_graph(df):\n",
    "    Gplot = nx.Graph()\n",
    "    Gplot.add_nodes_from(list(set([x[\"src\"][\"name\"] for x in df]\n",
    "             + [x[\"dst\"][\"name\"] for x in df])))\n",
    "\n",
    "    Gplot.add_edges_from([[x[\"src\"][\"name\"], x[\"dst\"][\"name\"]] \n",
    "                          for x in df])\n",
    "\n",
    "    # All together we can do something fancy\n",
    "    nx.draw(Gplot, with_labels=True, node_size=1500, node_color=\"skyblue\", \n",
    "            node_shape=\"o\", alpha=0.5, linewidths=4, font_size=20, \n",
    "            font_color=\"grey\", font_weight=\"bold\", \n",
    "            width=2, edge_color=\"grey\")"
   ]
  },
  {
   "cell_type": "markdown",
   "metadata": {},
   "source": [
    "We depart from the original graph:"
   ]
  },
  {
   "cell_type": "code",
   "execution_count": 21,
   "metadata": {},
   "outputs": [
    {
     "data": {
      "image/png": "[encoded data removed]",
      "text/plain": [
       "<matplotlib.figure.Figure at 0x180a8044320>"
      ]
     },
     "metadata": {},
     "output_type": "display_data"
    }
   ],
   "source": [
    "plot_graph(G.triplets.collect())"
   ]
  },
  {
   "cell_type": "markdown",
   "metadata": {},
   "source": [
    "And we end up with the following subgraph:"
   ]
  },
  {
   "cell_type": "code",
   "execution_count": 22,
   "metadata": {
    "scrolled": true
   },
   "outputs": [
    {
     "data": {
      "image/png": "[encoded data removed]",
      "text/plain": [
       "<matplotlib.figure.Figure at 0x180a80c6438>"
      ]
     },
     "metadata": {},
     "output_type": "display_data"
    }
   ],
   "source": [
    "plot_graph(motif2.collect())"
   ]
  },
  {
   "cell_type": "markdown",
   "metadata": {},
   "source": [
    "## Analyzing Wikipedia Articles Relevance"
   ]
  },
  {
   "cell_type": "markdown",
   "metadata": {},
   "source": [
    "### 1. Load the Graph"
   ]
  },
  {
   "cell_type": "markdown",
   "metadata": {},
   "source": [
    "This time there is no header to filter. There is just the id's and article's name."
   ]
  },
  {
   "cell_type": "code",
   "execution_count": 23,
   "metadata": {},
   "outputs": [
    {
     "name": "stdout",
     "output_type": "stream",
     "text": [
      "Schema for articles (vertices) is: ['6598434222544540151', 'Adelaide Hanscom Leeson']\n",
      "Schema for links (edges) is: ['36359329835505530', '6843358505416683693'].\n"
     ]
    }
   ],
   "source": [
    "articlesFile = sc.textFile(\"./Input/wiki-vertices.txt\")\n",
    "linksFile = sc.textFile(\"./Input/wiki-edges.txt\")\n",
    "\n",
    "articles = articlesFile.map(lambda l: l.split('\\t'))\n",
    "    \n",
    "links = linksFile.map(lambda l: l.split('\\t'))\n",
    "    \n",
    "print('Schema for articles (vertices) is: {}'.format(articles.first()))\n",
    "print('Schema for links (edges) is: {}.'.format(links.first()))"
   ]
  },
  {
   "cell_type": "code",
   "execution_count": 24,
   "metadata": {},
   "outputs": [],
   "source": [
    "row_data_article = articles.map(lambda p: Row(\n",
    "    id=int(p[0]), \n",
    "    name=str(p[1])\n",
    "    )\n",
    ")\n",
    "\n",
    "row_data_links = links.map(lambda p: Row(\n",
    "    src=int(p[0]), \n",
    "    dst=int(p[1])\n",
    "    )\n",
    ")\n",
    "\n",
    "article_df = sqlContext.createDataFrame(row_data_article)\n",
    "links_df = sqlContext.createDataFrame(row_data_links)\n",
    "\n",
    "W = GF.GraphFrame(article_df, links_df)"
   ]
  },
  {
   "cell_type": "markdown",
   "metadata": {},
   "source": [
    "### 2. Entity Link Analysis"
   ]
  },
  {
   "cell_type": "markdown",
   "metadata": {},
   "source": [
    "**PageRank** is one of the measures used by Google when listing web pages that indicates the web importance by accounting all the links refered to that specific page. Google paper citation:"
   ]
  },
  {
   "cell_type": "markdown",
   "metadata": {},
   "source": [
    "> We assume page A has pages $T_1, \\ldots , T_n$ which point to it (i.e., are citations). The parameter $d$ is a damping factor which can be set between 0 and 1. We usually set $d$ to 0.85. Also $C(A)$ is defined as the number of links going out of page A. The PageRank $PR$ of a page A is given as follows:\n",
    "\n",
    "> $$PR(A) = (1 - d) + d \\times (PR(T_1) / C(T_1) + \\ldots + PR(T_n)/C(T_n)).$$\n",
    "\n",
    "> Note that the PageRanks form a probability distribution over web pages, so the sum of all web pages' PageRanks will be one.\n",
    "PageRank or $PR(A)$ can be calculated using a simple iterative algorithm, and corresponds to the principal eigenvector of the\n",
    "normalized link matrix of the web.\n",
    "\n",
    "> PageRank or $PR(A)$ can be calculated using a simple iterative\n",
    "algorithm, and corresponds to the principal eigenvector of the\n",
    "normalized link matrix of the web."
   ]
  },
  {
   "cell_type": "code",
   "execution_count": 25,
   "metadata": {},
   "outputs": [
    {
     "name": "stdout",
     "output_type": "stream",
     "text": [
      "+-------------------+-------------------+\n",
      "|                 id|           pagerank|\n",
      "+-------------------+-------------------+\n",
      "|  60141164114404611|0.35702594230955786|\n",
      "| 173684472086590769|0.35702594230955786|\n",
      "| 176887352938142094|0.35702594230955786|\n",
      "| 281122592442407249|0.35702594230955786|\n",
      "| 301070397943306564| 0.6548282188378524|\n",
      "| 507001091046844781|0.35702594230955786|\n",
      "| 712072413066915002|0.35702594230955786|\n",
      "| 940666254847084065|0.35702594230955786|\n",
      "|1059768577358155574|0.35702594230955786|\n",
      "|1085375068557587515|0.47966441699092444|\n",
      "|1134911760014989030|  6.188192758269008|\n",
      "|1187332656934037593| 0.5980959259702137|\n",
      "|1263311176468471398|0.35702594230955786|\n",
      "|1310035909053628152|0.35702594230955786|\n",
      "|1324200442851109209| 0.3838608088908364|\n",
      "|1367968407838934737| 0.8054606308586486|\n",
      "|1388007610662316646|  5.729146760013646|\n",
      "|1622966179930861379|0.35702594230955786|\n",
      "|1627148279048617007| 0.4556676219590877|\n",
      "|1674224868208988261| 0.3602322079213017|\n",
      "+-------------------+-------------------+\n",
      "only showing top 20 rows\n",
      "\n",
      "+-------------------+-------------------+--------------------+\n",
      "|                src|                dst|              weight|\n",
      "+-------------------+-------------------+--------------------+\n",
      "|  15899986221907660|1746517089350976281|                 1.0|\n",
      "|  61428336741526981|8830299306937918434|                 1.0|\n",
      "|  83321341031485923|8830299306937918434|                 1.0|\n",
      "| 280742501349432114|1608898351963952296|0.004854368932038...|\n",
      "| 347948475168269162|8262690695090170653|                0.25|\n",
      "| 382618778295836400|8830299306937918434|                 1.0|\n",
      "| 405302465664393154|8830299306937918434|                 1.0|\n",
      "| 482117780861915593|1746517089350976281|                 1.0|\n",
      "| 486425564134828844|1388007610662316646|0.024390243902439025|\n",
      "| 486425564134828844|8511184332441692915|0.024390243902439025|\n",
      "| 632349169792689702|6781859821007437836|                 1.0|\n",
      "| 732503800574414902|8264829651690427215|0.002421307506053269|\n",
      "| 763235148959404942|6781859821007437836|                 1.0|\n",
      "| 768635530769573662|7484174634753063987|                 1.0|\n",
      "| 781661258632293504|4762523005978516189| 0.01639344262295082|\n",
      "| 820209812217470947|8830299306937918434|                 1.0|\n",
      "|1081989810475738915|8278194300931978911|                 1.0|\n",
      "|1094360269874074912|7097126743572404313|                 1.0|\n",
      "|1113869440013148429|8830299306937918434|                 1.0|\n",
      "|1164897641572826261|8710627269799036037|0.011904761904761904|\n",
      "+-------------------+-------------------+--------------------+\n",
      "only showing top 20 rows\n",
      "\n"
     ]
    }
   ],
   "source": [
    "# Run PageRank until convergence to tolerance \"tol\".\n",
    "results = W.pageRank(resetProbability=0.15, tol=0.01)\n",
    "# Display resulting pageranks and final edge weights\n",
    "# Note that the displayed pagerank may be truncated, e.g., missing the E notation.\n",
    "# In Spark 1.5+, you can use show(truncate=False) to avoid truncation.\n",
    "results.vertices.select(\"id\", \"pagerank\").show()\n",
    "results.edges.select(\"src\", \"dst\", \"weight\").show()"
   ]
  },
  {
   "cell_type": "markdown",
   "metadata": {},
   "source": [
    "For more information, find here the [User Guide](https://graphframes.github.io/user-guide.html)."
   ]
  }
 ],
 "metadata": {
  "kernelspec": {
   "display_name": "Python 3",
   "language": "python",
   "name": "python3"
  },
  "language_info": {
   "codemirror_mode": {
    "name": "ipython",
    "version": 3
   },
   "file_extension": ".py",
   "mimetype": "text/x-python",
   "name": "python",
   "nbconvert_exporter": "python",
   "pygments_lexer": "ipython3",
   "version": "3.6.4"
  }
 },
 "nbformat": 4,
 "nbformat_minor": 2
}
