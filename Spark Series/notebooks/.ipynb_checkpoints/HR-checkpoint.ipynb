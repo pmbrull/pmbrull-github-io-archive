{
 "cells": [
  {
   "cell_type": "markdown",
   "metadata": {},
   "source": [
    "# PySpark for Human Resources dataset"
   ]
  },
  {
   "cell_type": "code",
   "execution_count": 1,
   "metadata": {},
   "outputs": [],
   "source": [
    "sc = SparkContext.getOrCreate()"
   ]
  },
  {
   "cell_type": "code",
   "execution_count": 4,
   "metadata": {},
   "outputs": [
    {
     "name": "stdout",
     "output_type": "stream",
     "text": [
      "The file has 15000 lines.\n"
     ]
    }
   ],
   "source": [
    "hrRDD = sc.textFile(\"../input/HR_comma_sep.csv\")\n",
    "print('The file has %s lines.' % hrRDD.count())"
   ]
  },
  {
   "cell_type": "code",
   "execution_count": 20,
   "metadata": {},
   "outputs": [],
   "source": [
    "header = hrRDD.first()\n",
    "HR = hrRDD.filter(lambda line: line!=header)\\\n",
    "        .map(lambda line: (line.split(',')[2], float(line.split(',')[0])))\\\n",
    "        .mapValues(lambda value: (value,1))\\\n",
    "        .reduceByKey(lambda x, y: (x[0]+y[0],x[1]+y[1]))\\\n",
    "        .mapValues(lambda value: value[0]/value[1])\\\n",
    "        .map(lambda x: (x[1],x[0]))\\\n",
    "        .sortByKey()\\\n",
    "        .map(lambda x: (x[1],x[0]))"
   ]
  },
  {
   "cell_type": "code",
   "execution_count": 25,
   "metadata": {},
   "outputs": [
    {
     "name": "stdout",
     "output_type": "stream",
     "text": [
      "Employees who work in 7 projects have an average satisfaction of 0.11871093749999982\n",
      "Employees who work in 6 projects have an average satisfaction of 0.27345826235093723\n",
      "Employees who work in 2 projects have an average satisfaction of 0.4787688442211052\n",
      "Employees who work in 5 projects have an average satisfaction of 0.6788880840275264\n",
      "Employees who work in 3 projects have an average satisfaction of 0.6876695437731201\n",
      "Employees who work in 4 projects have an average satisfaction of 0.695131729667812\n"
     ]
    }
   ],
   "source": [
    "for elem in HR.collect():\n",
    "    print(\"Employees who work in {} projects have an average satisfaction of {}\".format(elem[0],elem[1]))"
   ]
  },
  {
   "cell_type": "code",
   "execution_count": 29,
   "metadata": {},
   "outputs": [
    {
     "data": {
      "text/plain": [
       "(10, 4)"
      ]
     },
     "execution_count": 29,
     "metadata": {},
     "output_type": "execute_result"
    }
   ],
   "source": [
    "seqOp = (lambda x, y: (x[0] + y, x[1] + 1))\n",
    "combOp = (lambda x, y: (x[0] + y[0], x[1] + y[1]))\n",
    "sc.parallelize([1, 2, 3, 4]).aggregate((0, 0), seqOp, combOp)\n"
   ]
  },
  {
   "cell_type": "code",
   "execution_count": 31,
   "metadata": {},
   "outputs": [
    {
     "data": {
      "text/plain": [
       "[('7', 0.11871093749999982),\n",
       " ('6', 0.27345826235093723),\n",
       " ('2', 0.4787688442211052),\n",
       " ('5', 0.6788880840275264),\n",
       " ('3', 0.6876695437731201),\n",
       " ('4', 0.695131729667812)]"
      ]
     },
     "execution_count": 31,
     "metadata": {},
     "output_type": "execute_result"
    }
   ],
   "source": [
    "seqOp = (lambda x, y: (x[0] + y, x[1] + 1))\n",
    "combOp = (lambda x, y: (x[0] + y[0], x[1] + y[1]))\n",
    "HR = hrRDD.filter(lambda line: line!=header)\\\n",
    "        .map(lambda line: (line.split(',')[2], float(line.split(',')[0])))\\\n",
    "        .aggregateByKey((0, 0), seqOp, combOp)\\\n",
    "        .mapValues(lambda value: value[0]/value[1])\\\n",
    "        .map(lambda x: (x[1],x[0]))\\\n",
    "        .sortByKey()\\\n",
    "        .map(lambda x: (x[1],x[0]))\n",
    "\n",
    "HR.collect()"
   ]
  },
  {
   "cell_type": "code",
   "execution_count": null,
   "metadata": {},
   "outputs": [],
   "source": []
  }
 ],
 "metadata": {
  "kernelspec": {
   "display_name": "Python 3",
   "language": "python",
   "name": "python3"
  },
  "language_info": {
   "codemirror_mode": {
    "name": "ipython",
    "version": 3
   },
   "file_extension": ".py",
   "mimetype": "text/x-python",
   "name": "python",
   "nbconvert_exporter": "python",
   "pygments_lexer": "ipython3",
   "version": "3.6.3"
  }
 },
 "nbformat": 4,
 "nbformat_minor": 2
}
